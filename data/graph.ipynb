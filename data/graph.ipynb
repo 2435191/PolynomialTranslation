{
 "cells": [
  {
   "cell_type": "code",
   "execution_count": 15,
   "metadata": {},
   "outputs": [],
   "source": [
    "%matplotlib tk"
   ]
  },
  {
   "cell_type": "code",
   "execution_count": 16,
   "metadata": {},
   "outputs": [],
   "source": [
    "import matplotlib.pyplot as plt\n",
    "import pandas\n",
    "from numpy import polyfit\n",
    "from typing import Iterable"
   ]
  },
  {
   "cell_type": "code",
   "execution_count": 17,
   "metadata": {},
   "outputs": [],
   "source": [
    "new_df = pandas.read_csv(\"new_method_data.csv\")#.iloc[:300, :]\n",
    "new_df['ms'] = new_df['us'] / 1000\n",
    "new_df.sort_values(\"coeffs_len\", inplace=True)\n",
    "\n",
    "\n",
    "old_df = pandas.read_csv(\"old_method_data.csv\").iloc[:100, :]\n",
    "old_df['ms'] = old_df['us'] / 1000\n",
    "old_df.sort_values(\"coeffs_len\", inplace=True)"
   ]
  },
  {
   "cell_type": "code",
   "execution_count": 18,
   "metadata": {},
   "outputs": [
    {
     "data": {
      "text/plain": [
       "<matplotlib.collections.PathCollection at 0x123a78640>"
      ]
     },
     "execution_count": 18,
     "metadata": {},
     "output_type": "execute_result"
    }
   ],
   "source": [
    "plt.scatter(new_df['coeffs_len'], new_df['ms'], s=0.5, label=\"New method\")\n",
    "plt.scatter(old_df['coeffs_len'], old_df['ms'], s=0.5, label=\"Binomial theorem method\")"
   ]
  },
  {
   "cell_type": "code",
   "execution_count": 19,
   "metadata": {},
   "outputs": [],
   "source": [
    "a1, b1, c1 = polyfit(new_df['coeffs_len'], new_df['ms'], 2)\n",
    "a2, b2, c2, d2 = polyfit(old_df['coeffs_len'], old_df['ms'], 3)"
   ]
  },
  {
   "cell_type": "code",
   "execution_count": 20,
   "metadata": {},
   "outputs": [],
   "source": [
    "new_xs = new_df['coeffs_len']\n",
    "old_xs = old_df['coeffs_len']\n",
    "\n",
    "new_ys = a1 * new_xs**2 + b1 * new_xs + c1\n",
    "old_ys = a2 * old_xs**3 + b2 * old_xs**2 + c2 * old_xs + d2"
   ]
  },
  {
   "cell_type": "code",
   "execution_count": 21,
   "metadata": {},
   "outputs": [
    {
     "data": {
      "text/plain": [
       "[<matplotlib.lines.Line2D at 0x134906f20>]"
      ]
     },
     "execution_count": 21,
     "metadata": {},
     "output_type": "execute_result"
    }
   ],
   "source": [
    "plt.plot(new_xs, new_ys)\n",
    "plt.plot(old_xs, old_ys)"
   ]
  },
  {
   "cell_type": "code",
   "execution_count": 22,
   "metadata": {},
   "outputs": [
    {
     "data": {
      "text/plain": [
       "Text(0.5, 1.0, 'Comparison of new method and binomial theorem method')"
      ]
     },
     "execution_count": 22,
     "metadata": {},
     "output_type": "execute_result"
    }
   ],
   "source": [
    "plt.title(\"Comparison of new method and binomial theorem method\")"
   ]
  },
  {
   "cell_type": "code",
   "execution_count": 23,
   "metadata": {},
   "outputs": [
    {
     "data": {
      "text/plain": [
       "<matplotlib.legend.Legend at 0x123a92ad0>"
      ]
     },
     "execution_count": 23,
     "metadata": {},
     "output_type": "execute_result"
    }
   ],
   "source": [
    "plt.legend()"
   ]
  },
  {
   "cell_type": "code",
   "execution_count": 24,
   "metadata": {},
   "outputs": [
    {
     "data": {
      "text/plain": [
       "Text(28.791666666666668, 0.5, 'Average execution time (ms)')"
      ]
     },
     "execution_count": 24,
     "metadata": {},
     "output_type": "execute_result"
    }
   ],
   "source": [
    "plt.xlabel(\"Degree of polynomial\")\n",
    "plt.ylabel(\"Average execution time (ms)\")"
   ]
  },
  {
   "cell_type": "code",
   "execution_count": 25,
   "metadata": {},
   "outputs": [],
   "source": [
    "def calculate_r2(ys: Iterable[float], predicted_ys: Iterable[float]) -> float:\n",
    "    mean_y = sum(ys) / len(ys)\n",
    "    tss = sum(((y - mean_y) * (y - mean_y) for y in ys))\n",
    "    rss = sum(((y - f_x) * (y - f_x) for y, f_x in zip(ys, predicted_ys)))\n",
    "    return 1 - rss / tss"
   ]
  },
  {
   "cell_type": "code",
   "execution_count": 26,
   "metadata": {},
   "outputs": [],
   "source": [
    "new_r2 = calculate_r2(new_df['ms'], new_ys)\n",
    "old_r2 = calculate_r2(old_df['ms'], old_ys)"
   ]
  },
  {
   "cell_type": "markdown",
   "metadata": {},
   "source": [
    "## Equations and fit"
   ]
  },
  {
   "cell_type": "code",
   "execution_count": 27,
   "metadata": {},
   "outputs": [
    {
     "name": "stdout",
     "output_type": "stream",
     "text": [
      "new equation: y = 3.652408930569563e-06x^2 + 0.00010039442960046131x + 0.04827432184248888\n",
      "old equation: y = 2.0970165397410255e-06x^3 + 0.00011889873331170688x^2 + -0.011514405657739164x + 0.4702874436432495\n"
     ]
    }
   ],
   "source": [
    "print(f\"\"\"new equation: y = {a1}x^2 + {b1}x + {c1}\n",
    "old equation: y = {a2}x^3 + {b2}x^2 + {c2}x + {d2}\"\"\")"
   ]
  },
  {
   "cell_type": "code",
   "execution_count": 28,
   "metadata": {},
   "outputs": [
    {
     "data": {
      "text/plain": [
       "(0.9898152063707221, 0.9996588184713785)"
      ]
     },
     "execution_count": 28,
     "metadata": {},
     "output_type": "execute_result"
    }
   ],
   "source": [
    "new_r2, old_r2"
   ]
  }
 ],
 "metadata": {
  "interpreter": {
   "hash": "aee8b7b246df8f9039afb4144a1f6fd8d2ca17a180786b69acc140d282b71a49"
  },
  "kernelspec": {
   "display_name": "Python 3.10.0 64-bit",
   "language": "python",
   "name": "python3"
  },
  "language_info": {
   "codemirror_mode": {
    "name": "ipython",
    "version": 3
   },
   "file_extension": ".py",
   "mimetype": "text/x-python",
   "name": "python",
   "nbconvert_exporter": "python",
   "pygments_lexer": "ipython3",
   "version": "3.10.0"
  },
  "orig_nbformat": 4
 },
 "nbformat": 4,
 "nbformat_minor": 2
}
