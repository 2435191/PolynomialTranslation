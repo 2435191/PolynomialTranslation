{
 "cells": [
  {
   "cell_type": "code",
   "execution_count": 1,
   "metadata": {},
   "outputs": [],
   "source": [
    "%matplotlib tk"
   ]
  },
  {
   "cell_type": "code",
   "execution_count": 2,
   "metadata": {},
   "outputs": [],
   "source": [
    "import matplotlib.pyplot as plt\n",
    "import pandas\n",
    "from numpy import polyfit\n",
    "from typing import Iterable"
   ]
  },
  {
   "cell_type": "code",
   "execution_count": 3,
   "metadata": {},
   "outputs": [],
   "source": [
    "new_df = pandas.read_csv(\"new_method_data.csv\")#.iloc[:300, :]\n",
    "new_df['ms'] = new_df['us'] / 1000\n",
    "new_df.sort_values(\"coeffs_len\", inplace=True)\n",
    "\n",
    "\n",
    "old_df = pandas.read_csv(\"old_method_data.csv\").iloc[:100, :]\n",
    "old_df['ms'] = old_df['us'] / 1000\n",
    "old_df.sort_values(\"coeffs_len\", inplace=True)"
   ]
  },
  {
   "cell_type": "code",
   "execution_count": 4,
   "metadata": {},
   "outputs": [
    {
     "data": {
      "text/plain": [
       "<matplotlib.collections.PathCollection at 0x12e7b04c0>"
      ]
     },
     "execution_count": 4,
     "metadata": {},
     "output_type": "execute_result"
    }
   ],
   "source": [
    "plt.scatter(new_df['coeffs_len'], new_df['ms'], s=0.5, label=\"New method\")\n",
    "plt.scatter(old_df['coeffs_len'], old_df['ms'], s=0.5, label=\"Binomial theorem method\")"
   ]
  },
  {
   "cell_type": "code",
   "execution_count": 5,
   "metadata": {},
   "outputs": [],
   "source": [
    "a1, b1, c1 = polyfit(new_df['coeffs_len'], new_df['ms'], 2)\n",
    "a2, b2, c2, d2 = polyfit(old_df['coeffs_len'], old_df['ms'], 3)"
   ]
  },
  {
   "cell_type": "code",
   "execution_count": 6,
   "metadata": {},
   "outputs": [],
   "source": [
    "new_xs = new_df['coeffs_len']\n",
    "old_xs = old_df['coeffs_len']\n",
    "\n",
    "new_ys = a1 * new_xs**2 + b1 * new_xs + c1\n",
    "old_ys = a2 * old_xs**3 + b2 * old_xs**2 + c2 * old_xs + d2"
   ]
  },
  {
   "cell_type": "code",
   "execution_count": 7,
   "metadata": {},
   "outputs": [
    {
     "data": {
      "text/plain": [
       "[<matplotlib.lines.Line2D at 0x12e802a40>]"
      ]
     },
     "execution_count": 7,
     "metadata": {},
     "output_type": "execute_result"
    }
   ],
   "source": [
    "plt.plot(new_xs, new_ys)\n",
    "plt.plot(old_xs, old_ys)"
   ]
  },
  {
   "cell_type": "code",
   "execution_count": 8,
   "metadata": {},
   "outputs": [
    {
     "data": {
      "text/plain": [
       "Text(0.5, 1.0, 'Comparison of new method and binomial theorem method')"
      ]
     },
     "execution_count": 8,
     "metadata": {},
     "output_type": "execute_result"
    }
   ],
   "source": [
    "plt.title(\"Comparison of new method and binomial theorem method\")"
   ]
  },
  {
   "cell_type": "code",
   "execution_count": 9,
   "metadata": {},
   "outputs": [
    {
     "data": {
      "text/plain": [
       "<matplotlib.legend.Legend at 0x12e803c10>"
      ]
     },
     "execution_count": 9,
     "metadata": {},
     "output_type": "execute_result"
    }
   ],
   "source": [
    "plt.legend()"
   ]
  },
  {
   "cell_type": "code",
   "execution_count": 10,
   "metadata": {},
   "outputs": [
    {
     "data": {
      "text/plain": [
       "Text(28.791666666666668, 0.5, 'Average execution time (ms)')"
      ]
     },
     "execution_count": 10,
     "metadata": {},
     "output_type": "execute_result"
    }
   ],
   "source": [
    "plt.xlabel(\"Degree of polynomial\")\n",
    "plt.ylabel(\"Average execution time (ms)\")"
   ]
  },
  {
   "cell_type": "code",
   "execution_count": 11,
   "metadata": {},
   "outputs": [
    {
     "ename": "FileNotFoundError",
     "evalue": "[Errno 2] No such file or directory: 'data/graph.png'",
     "output_type": "error",
     "traceback": [
      "\u001b[0;31m---------------------------------------------------------------------------\u001b[0m",
      "\u001b[0;31mFileNotFoundError\u001b[0m                         Traceback (most recent call last)",
      "\u001b[1;32m/Users/WillJBradley/Desktop/programming/math/PolynomialTranslation/data/graph.ipynb Cell 11'\u001b[0m in \u001b[0;36m<cell line: 1>\u001b[0;34m()\u001b[0m\n\u001b[0;32m----> <a href='vscode-notebook-cell:/Users/WillJBradley/Desktop/programming/math/PolynomialTranslation/data/graph.ipynb#ch0000015?line=0'>1</a>\u001b[0m plt\u001b[39m.\u001b[39;49msavefig(\u001b[39m\"\u001b[39;49m\u001b[39mdata/graph.png\u001b[39;49m\u001b[39m\"\u001b[39;49m)\n",
      "File \u001b[0;32m~/Desktop/programming/math/PolynomialTranslation/env/lib/python3.10/site-packages/matplotlib/pyplot.py:958\u001b[0m, in \u001b[0;36msavefig\u001b[0;34m(*args, **kwargs)\u001b[0m\n\u001b[1;32m    <a href='file:///Users/WillJBradley/Desktop/programming/math/PolynomialTranslation/env/lib/python3.10/site-packages/matplotlib/pyplot.py?line=954'>955</a>\u001b[0m \u001b[39m@_copy_docstring_and_deprecators\u001b[39m(Figure\u001b[39m.\u001b[39msavefig)\n\u001b[1;32m    <a href='file:///Users/WillJBradley/Desktop/programming/math/PolynomialTranslation/env/lib/python3.10/site-packages/matplotlib/pyplot.py?line=955'>956</a>\u001b[0m \u001b[39mdef\u001b[39;00m \u001b[39msavefig\u001b[39m(\u001b[39m*\u001b[39margs, \u001b[39m*\u001b[39m\u001b[39m*\u001b[39mkwargs):\n\u001b[1;32m    <a href='file:///Users/WillJBradley/Desktop/programming/math/PolynomialTranslation/env/lib/python3.10/site-packages/matplotlib/pyplot.py?line=956'>957</a>\u001b[0m     fig \u001b[39m=\u001b[39m gcf()\n\u001b[0;32m--> <a href='file:///Users/WillJBradley/Desktop/programming/math/PolynomialTranslation/env/lib/python3.10/site-packages/matplotlib/pyplot.py?line=957'>958</a>\u001b[0m     res \u001b[39m=\u001b[39m fig\u001b[39m.\u001b[39;49msavefig(\u001b[39m*\u001b[39;49margs, \u001b[39m*\u001b[39;49m\u001b[39m*\u001b[39;49mkwargs)\n\u001b[1;32m    <a href='file:///Users/WillJBradley/Desktop/programming/math/PolynomialTranslation/env/lib/python3.10/site-packages/matplotlib/pyplot.py?line=958'>959</a>\u001b[0m     fig\u001b[39m.\u001b[39mcanvas\u001b[39m.\u001b[39mdraw_idle()   \u001b[39m# need this if 'transparent=True' to reset colors\u001b[39;00m\n\u001b[1;32m    <a href='file:///Users/WillJBradley/Desktop/programming/math/PolynomialTranslation/env/lib/python3.10/site-packages/matplotlib/pyplot.py?line=959'>960</a>\u001b[0m     \u001b[39mreturn\u001b[39;00m res\n",
      "File \u001b[0;32m~/Desktop/programming/math/PolynomialTranslation/env/lib/python3.10/site-packages/matplotlib/figure.py:3019\u001b[0m, in \u001b[0;36mFigure.savefig\u001b[0;34m(self, fname, transparent, **kwargs)\u001b[0m\n\u001b[1;32m   <a href='file:///Users/WillJBradley/Desktop/programming/math/PolynomialTranslation/env/lib/python3.10/site-packages/matplotlib/figure.py?line=3014'>3015</a>\u001b[0m     \u001b[39mfor\u001b[39;00m ax \u001b[39min\u001b[39;00m \u001b[39mself\u001b[39m\u001b[39m.\u001b[39maxes:\n\u001b[1;32m   <a href='file:///Users/WillJBradley/Desktop/programming/math/PolynomialTranslation/env/lib/python3.10/site-packages/matplotlib/figure.py?line=3015'>3016</a>\u001b[0m         stack\u001b[39m.\u001b[39menter_context(\n\u001b[1;32m   <a href='file:///Users/WillJBradley/Desktop/programming/math/PolynomialTranslation/env/lib/python3.10/site-packages/matplotlib/figure.py?line=3016'>3017</a>\u001b[0m             ax\u001b[39m.\u001b[39mpatch\u001b[39m.\u001b[39m_cm_set(facecolor\u001b[39m=\u001b[39m\u001b[39m'\u001b[39m\u001b[39mnone\u001b[39m\u001b[39m'\u001b[39m, edgecolor\u001b[39m=\u001b[39m\u001b[39m'\u001b[39m\u001b[39mnone\u001b[39m\u001b[39m'\u001b[39m))\n\u001b[0;32m-> <a href='file:///Users/WillJBradley/Desktop/programming/math/PolynomialTranslation/env/lib/python3.10/site-packages/matplotlib/figure.py?line=3018'>3019</a>\u001b[0m \u001b[39mself\u001b[39;49m\u001b[39m.\u001b[39;49mcanvas\u001b[39m.\u001b[39;49mprint_figure(fname, \u001b[39m*\u001b[39;49m\u001b[39m*\u001b[39;49mkwargs)\n",
      "File \u001b[0;32m~/Desktop/programming/math/PolynomialTranslation/env/lib/python3.10/site-packages/matplotlib/backend_bases.py:2319\u001b[0m, in \u001b[0;36mFigureCanvasBase.print_figure\u001b[0;34m(self, filename, dpi, facecolor, edgecolor, orientation, format, bbox_inches, pad_inches, bbox_extra_artists, backend, **kwargs)\u001b[0m\n\u001b[1;32m   <a href='file:///Users/WillJBradley/Desktop/programming/math/PolynomialTranslation/env/lib/python3.10/site-packages/matplotlib/backend_bases.py?line=2314'>2315</a>\u001b[0m \u001b[39mtry\u001b[39;00m:\n\u001b[1;32m   <a href='file:///Users/WillJBradley/Desktop/programming/math/PolynomialTranslation/env/lib/python3.10/site-packages/matplotlib/backend_bases.py?line=2315'>2316</a>\u001b[0m     \u001b[39m# _get_renderer may change the figure dpi (as vector formats\u001b[39;00m\n\u001b[1;32m   <a href='file:///Users/WillJBradley/Desktop/programming/math/PolynomialTranslation/env/lib/python3.10/site-packages/matplotlib/backend_bases.py?line=2316'>2317</a>\u001b[0m     \u001b[39m# force the figure dpi to 72), so we need to set it again here.\u001b[39;00m\n\u001b[1;32m   <a href='file:///Users/WillJBradley/Desktop/programming/math/PolynomialTranslation/env/lib/python3.10/site-packages/matplotlib/backend_bases.py?line=2317'>2318</a>\u001b[0m     \u001b[39mwith\u001b[39;00m cbook\u001b[39m.\u001b[39m_setattr_cm(\u001b[39mself\u001b[39m\u001b[39m.\u001b[39mfigure, dpi\u001b[39m=\u001b[39mdpi):\n\u001b[0;32m-> <a href='file:///Users/WillJBradley/Desktop/programming/math/PolynomialTranslation/env/lib/python3.10/site-packages/matplotlib/backend_bases.py?line=2318'>2319</a>\u001b[0m         result \u001b[39m=\u001b[39m print_method(\n\u001b[1;32m   <a href='file:///Users/WillJBradley/Desktop/programming/math/PolynomialTranslation/env/lib/python3.10/site-packages/matplotlib/backend_bases.py?line=2319'>2320</a>\u001b[0m             filename,\n\u001b[1;32m   <a href='file:///Users/WillJBradley/Desktop/programming/math/PolynomialTranslation/env/lib/python3.10/site-packages/matplotlib/backend_bases.py?line=2320'>2321</a>\u001b[0m             facecolor\u001b[39m=\u001b[39;49mfacecolor,\n\u001b[1;32m   <a href='file:///Users/WillJBradley/Desktop/programming/math/PolynomialTranslation/env/lib/python3.10/site-packages/matplotlib/backend_bases.py?line=2321'>2322</a>\u001b[0m             edgecolor\u001b[39m=\u001b[39;49medgecolor,\n\u001b[1;32m   <a href='file:///Users/WillJBradley/Desktop/programming/math/PolynomialTranslation/env/lib/python3.10/site-packages/matplotlib/backend_bases.py?line=2322'>2323</a>\u001b[0m             orientation\u001b[39m=\u001b[39;49morientation,\n\u001b[1;32m   <a href='file:///Users/WillJBradley/Desktop/programming/math/PolynomialTranslation/env/lib/python3.10/site-packages/matplotlib/backend_bases.py?line=2323'>2324</a>\u001b[0m             bbox_inches_restore\u001b[39m=\u001b[39;49m_bbox_inches_restore,\n\u001b[1;32m   <a href='file:///Users/WillJBradley/Desktop/programming/math/PolynomialTranslation/env/lib/python3.10/site-packages/matplotlib/backend_bases.py?line=2324'>2325</a>\u001b[0m             \u001b[39m*\u001b[39;49m\u001b[39m*\u001b[39;49mkwargs)\n\u001b[1;32m   <a href='file:///Users/WillJBradley/Desktop/programming/math/PolynomialTranslation/env/lib/python3.10/site-packages/matplotlib/backend_bases.py?line=2325'>2326</a>\u001b[0m \u001b[39mfinally\u001b[39;00m:\n\u001b[1;32m   <a href='file:///Users/WillJBradley/Desktop/programming/math/PolynomialTranslation/env/lib/python3.10/site-packages/matplotlib/backend_bases.py?line=2326'>2327</a>\u001b[0m     \u001b[39mif\u001b[39;00m bbox_inches \u001b[39mand\u001b[39;00m restore_bbox:\n",
      "File \u001b[0;32m~/Desktop/programming/math/PolynomialTranslation/env/lib/python3.10/site-packages/matplotlib/backend_bases.py:1648\u001b[0m, in \u001b[0;36m_check_savefig_extra_args.<locals>.wrapper\u001b[0;34m(*args, **kwargs)\u001b[0m\n\u001b[1;32m   <a href='file:///Users/WillJBradley/Desktop/programming/math/PolynomialTranslation/env/lib/python3.10/site-packages/matplotlib/backend_bases.py?line=1639'>1640</a>\u001b[0m     _api\u001b[39m.\u001b[39mwarn_deprecated(\n\u001b[1;32m   <a href='file:///Users/WillJBradley/Desktop/programming/math/PolynomialTranslation/env/lib/python3.10/site-packages/matplotlib/backend_bases.py?line=1640'>1641</a>\u001b[0m         \u001b[39m'\u001b[39m\u001b[39m3.3\u001b[39m\u001b[39m'\u001b[39m, name\u001b[39m=\u001b[39mname, removal\u001b[39m=\u001b[39m\u001b[39m'\u001b[39m\u001b[39m3.6\u001b[39m\u001b[39m'\u001b[39m,\n\u001b[1;32m   <a href='file:///Users/WillJBradley/Desktop/programming/math/PolynomialTranslation/env/lib/python3.10/site-packages/matplotlib/backend_bases.py?line=1641'>1642</a>\u001b[0m         message\u001b[39m=\u001b[39m\u001b[39m'\u001b[39m\u001b[39m%(name)s\u001b[39;00m\u001b[39m() got unexpected keyword argument \u001b[39m\u001b[39m\"\u001b[39m\u001b[39m'\u001b[39m\n\u001b[1;32m   <a href='file:///Users/WillJBradley/Desktop/programming/math/PolynomialTranslation/env/lib/python3.10/site-packages/matplotlib/backend_bases.py?line=1642'>1643</a>\u001b[0m                 \u001b[39m+\u001b[39m arg \u001b[39m+\u001b[39m \u001b[39m'\u001b[39m\u001b[39m\"\u001b[39m\u001b[39m which is no longer supported as of \u001b[39m\u001b[39m'\u001b[39m\n\u001b[1;32m   <a href='file:///Users/WillJBradley/Desktop/programming/math/PolynomialTranslation/env/lib/python3.10/site-packages/matplotlib/backend_bases.py?line=1643'>1644</a>\u001b[0m                 \u001b[39m'\u001b[39m\u001b[39m%(since)s\u001b[39;00m\u001b[39m and will become an error \u001b[39m\u001b[39m'\u001b[39m\n\u001b[1;32m   <a href='file:///Users/WillJBradley/Desktop/programming/math/PolynomialTranslation/env/lib/python3.10/site-packages/matplotlib/backend_bases.py?line=1644'>1645</a>\u001b[0m                 \u001b[39m'\u001b[39m\u001b[39m%(removal)s\u001b[39;00m\u001b[39m'\u001b[39m)\n\u001b[1;32m   <a href='file:///Users/WillJBradley/Desktop/programming/math/PolynomialTranslation/env/lib/python3.10/site-packages/matplotlib/backend_bases.py?line=1645'>1646</a>\u001b[0m     kwargs\u001b[39m.\u001b[39mpop(arg)\n\u001b[0;32m-> <a href='file:///Users/WillJBradley/Desktop/programming/math/PolynomialTranslation/env/lib/python3.10/site-packages/matplotlib/backend_bases.py?line=1647'>1648</a>\u001b[0m \u001b[39mreturn\u001b[39;00m func(\u001b[39m*\u001b[39;49margs, \u001b[39m*\u001b[39;49m\u001b[39m*\u001b[39;49mkwargs)\n",
      "File \u001b[0;32m~/Desktop/programming/math/PolynomialTranslation/env/lib/python3.10/site-packages/matplotlib/_api/deprecation.py:412\u001b[0m, in \u001b[0;36mdelete_parameter.<locals>.wrapper\u001b[0;34m(*inner_args, **inner_kwargs)\u001b[0m\n\u001b[1;32m    <a href='file:///Users/WillJBradley/Desktop/programming/math/PolynomialTranslation/env/lib/python3.10/site-packages/matplotlib/_api/deprecation.py?line=401'>402</a>\u001b[0m     deprecation_addendum \u001b[39m=\u001b[39m (\n\u001b[1;32m    <a href='file:///Users/WillJBradley/Desktop/programming/math/PolynomialTranslation/env/lib/python3.10/site-packages/matplotlib/_api/deprecation.py?line=402'>403</a>\u001b[0m         \u001b[39mf\u001b[39m\u001b[39m\"\u001b[39m\u001b[39mIf any parameter follows \u001b[39m\u001b[39m{\u001b[39;00mname\u001b[39m!r}\u001b[39;00m\u001b[39m, they should be passed as \u001b[39m\u001b[39m\"\u001b[39m\n\u001b[1;32m    <a href='file:///Users/WillJBradley/Desktop/programming/math/PolynomialTranslation/env/lib/python3.10/site-packages/matplotlib/_api/deprecation.py?line=403'>404</a>\u001b[0m         \u001b[39mf\u001b[39m\u001b[39m\"\u001b[39m\u001b[39mkeyword, not positionally.\u001b[39m\u001b[39m\"\u001b[39m)\n\u001b[1;32m    <a href='file:///Users/WillJBradley/Desktop/programming/math/PolynomialTranslation/env/lib/python3.10/site-packages/matplotlib/_api/deprecation.py?line=404'>405</a>\u001b[0m     warn_deprecated(\n\u001b[1;32m    <a href='file:///Users/WillJBradley/Desktop/programming/math/PolynomialTranslation/env/lib/python3.10/site-packages/matplotlib/_api/deprecation.py?line=405'>406</a>\u001b[0m         since,\n\u001b[1;32m    <a href='file:///Users/WillJBradley/Desktop/programming/math/PolynomialTranslation/env/lib/python3.10/site-packages/matplotlib/_api/deprecation.py?line=406'>407</a>\u001b[0m         name\u001b[39m=\u001b[39m\u001b[39mrepr\u001b[39m(name),\n\u001b[0;32m   (...)\u001b[0m\n\u001b[1;32m    <a href='file:///Users/WillJBradley/Desktop/programming/math/PolynomialTranslation/env/lib/python3.10/site-packages/matplotlib/_api/deprecation.py?line=409'>410</a>\u001b[0m                  \u001b[39melse\u001b[39;00m deprecation_addendum,\n\u001b[1;32m    <a href='file:///Users/WillJBradley/Desktop/programming/math/PolynomialTranslation/env/lib/python3.10/site-packages/matplotlib/_api/deprecation.py?line=410'>411</a>\u001b[0m         \u001b[39m*\u001b[39m\u001b[39m*\u001b[39mkwargs)\n\u001b[0;32m--> <a href='file:///Users/WillJBradley/Desktop/programming/math/PolynomialTranslation/env/lib/python3.10/site-packages/matplotlib/_api/deprecation.py?line=411'>412</a>\u001b[0m \u001b[39mreturn\u001b[39;00m func(\u001b[39m*\u001b[39;49minner_args, \u001b[39m*\u001b[39;49m\u001b[39m*\u001b[39;49minner_kwargs)\n",
      "File \u001b[0;32m~/Desktop/programming/math/PolynomialTranslation/env/lib/python3.10/site-packages/matplotlib/backends/backend_agg.py:541\u001b[0m, in \u001b[0;36mFigureCanvasAgg.print_png\u001b[0;34m(self, filename_or_obj, metadata, pil_kwargs, *args)\u001b[0m\n\u001b[1;32m    <a href='file:///Users/WillJBradley/Desktop/programming/math/PolynomialTranslation/env/lib/python3.10/site-packages/matplotlib/backends/backend_agg.py?line=493'>494</a>\u001b[0m \u001b[39m\"\"\"\u001b[39;00m\n\u001b[1;32m    <a href='file:///Users/WillJBradley/Desktop/programming/math/PolynomialTranslation/env/lib/python3.10/site-packages/matplotlib/backends/backend_agg.py?line=494'>495</a>\u001b[0m \u001b[39mWrite the figure to a PNG file.\u001b[39;00m\n\u001b[1;32m    <a href='file:///Users/WillJBradley/Desktop/programming/math/PolynomialTranslation/env/lib/python3.10/site-packages/matplotlib/backends/backend_agg.py?line=495'>496</a>\u001b[0m \n\u001b[0;32m   (...)\u001b[0m\n\u001b[1;32m    <a href='file:///Users/WillJBradley/Desktop/programming/math/PolynomialTranslation/env/lib/python3.10/site-packages/matplotlib/backends/backend_agg.py?line=537'>538</a>\u001b[0m \u001b[39m    *metadata*, including the default 'Software' key.\u001b[39;00m\n\u001b[1;32m    <a href='file:///Users/WillJBradley/Desktop/programming/math/PolynomialTranslation/env/lib/python3.10/site-packages/matplotlib/backends/backend_agg.py?line=538'>539</a>\u001b[0m \u001b[39m\"\"\"\u001b[39;00m\n\u001b[1;32m    <a href='file:///Users/WillJBradley/Desktop/programming/math/PolynomialTranslation/env/lib/python3.10/site-packages/matplotlib/backends/backend_agg.py?line=539'>540</a>\u001b[0m FigureCanvasAgg\u001b[39m.\u001b[39mdraw(\u001b[39mself\u001b[39m)\n\u001b[0;32m--> <a href='file:///Users/WillJBradley/Desktop/programming/math/PolynomialTranslation/env/lib/python3.10/site-packages/matplotlib/backends/backend_agg.py?line=540'>541</a>\u001b[0m mpl\u001b[39m.\u001b[39;49mimage\u001b[39m.\u001b[39;49mimsave(\n\u001b[1;32m    <a href='file:///Users/WillJBradley/Desktop/programming/math/PolynomialTranslation/env/lib/python3.10/site-packages/matplotlib/backends/backend_agg.py?line=541'>542</a>\u001b[0m     filename_or_obj, \u001b[39mself\u001b[39;49m\u001b[39m.\u001b[39;49mbuffer_rgba(), \u001b[39mformat\u001b[39;49m\u001b[39m=\u001b[39;49m\u001b[39m\"\u001b[39;49m\u001b[39mpng\u001b[39;49m\u001b[39m\"\u001b[39;49m, origin\u001b[39m=\u001b[39;49m\u001b[39m\"\u001b[39;49m\u001b[39mupper\u001b[39;49m\u001b[39m\"\u001b[39;49m,\n\u001b[1;32m    <a href='file:///Users/WillJBradley/Desktop/programming/math/PolynomialTranslation/env/lib/python3.10/site-packages/matplotlib/backends/backend_agg.py?line=542'>543</a>\u001b[0m     dpi\u001b[39m=\u001b[39;49m\u001b[39mself\u001b[39;49m\u001b[39m.\u001b[39;49mfigure\u001b[39m.\u001b[39;49mdpi, metadata\u001b[39m=\u001b[39;49mmetadata, pil_kwargs\u001b[39m=\u001b[39;49mpil_kwargs)\n",
      "File \u001b[0;32m~/Desktop/programming/math/PolynomialTranslation/env/lib/python3.10/site-packages/matplotlib/image.py:1675\u001b[0m, in \u001b[0;36mimsave\u001b[0;34m(fname, arr, vmin, vmax, cmap, format, origin, dpi, metadata, pil_kwargs)\u001b[0m\n\u001b[1;32m   <a href='file:///Users/WillJBradley/Desktop/programming/math/PolynomialTranslation/env/lib/python3.10/site-packages/matplotlib/image.py?line=1672'>1673</a>\u001b[0m pil_kwargs\u001b[39m.\u001b[39msetdefault(\u001b[39m\"\u001b[39m\u001b[39mformat\u001b[39m\u001b[39m\"\u001b[39m, \u001b[39mformat\u001b[39m)\n\u001b[1;32m   <a href='file:///Users/WillJBradley/Desktop/programming/math/PolynomialTranslation/env/lib/python3.10/site-packages/matplotlib/image.py?line=1673'>1674</a>\u001b[0m pil_kwargs\u001b[39m.\u001b[39msetdefault(\u001b[39m\"\u001b[39m\u001b[39mdpi\u001b[39m\u001b[39m\"\u001b[39m, (dpi, dpi))\n\u001b[0;32m-> <a href='file:///Users/WillJBradley/Desktop/programming/math/PolynomialTranslation/env/lib/python3.10/site-packages/matplotlib/image.py?line=1674'>1675</a>\u001b[0m image\u001b[39m.\u001b[39;49msave(fname, \u001b[39m*\u001b[39;49m\u001b[39m*\u001b[39;49mpil_kwargs)\n",
      "File \u001b[0;32m~/Desktop/programming/math/PolynomialTranslation/env/lib/python3.10/site-packages/PIL/Image.py:2209\u001b[0m, in \u001b[0;36mImage.save\u001b[0;34m(self, fp, format, **params)\u001b[0m\n\u001b[1;32m   <a href='file:///Users/WillJBradley/Desktop/programming/math/PolynomialTranslation/env/lib/python3.10/site-packages/PIL/Image.py?line=2206'>2207</a>\u001b[0m         fp \u001b[39m=\u001b[39m builtins\u001b[39m.\u001b[39mopen(filename, \u001b[39m\"\u001b[39m\u001b[39mr+b\u001b[39m\u001b[39m\"\u001b[39m)\n\u001b[1;32m   <a href='file:///Users/WillJBradley/Desktop/programming/math/PolynomialTranslation/env/lib/python3.10/site-packages/PIL/Image.py?line=2207'>2208</a>\u001b[0m     \u001b[39melse\u001b[39;00m:\n\u001b[0;32m-> <a href='file:///Users/WillJBradley/Desktop/programming/math/PolynomialTranslation/env/lib/python3.10/site-packages/PIL/Image.py?line=2208'>2209</a>\u001b[0m         fp \u001b[39m=\u001b[39m builtins\u001b[39m.\u001b[39;49mopen(filename, \u001b[39m\"\u001b[39;49m\u001b[39mw+b\u001b[39;49m\u001b[39m\"\u001b[39;49m)\n\u001b[1;32m   <a href='file:///Users/WillJBradley/Desktop/programming/math/PolynomialTranslation/env/lib/python3.10/site-packages/PIL/Image.py?line=2210'>2211</a>\u001b[0m \u001b[39mtry\u001b[39;00m:\n\u001b[1;32m   <a href='file:///Users/WillJBradley/Desktop/programming/math/PolynomialTranslation/env/lib/python3.10/site-packages/PIL/Image.py?line=2211'>2212</a>\u001b[0m     save_handler(\u001b[39mself\u001b[39m, fp, filename)\n",
      "\u001b[0;31mFileNotFoundError\u001b[0m: [Errno 2] No such file or directory: 'data/graph.png'"
     ]
    }
   ],
   "source": [
    "plt.savefig(\"graph.png\")"
   ]
  },
  {
   "cell_type": "markdown",
   "metadata": {},
   "source": [
    "## Equations and fit"
   ]
  },
  {
   "cell_type": "code",
   "execution_count": null,
   "metadata": {},
   "outputs": [],
   "source": [
    "def calculate_r2(ys: Iterable[float], predicted_ys: Iterable[float]) -> float:\n",
    "    mean_y = sum(ys) / len(ys)\n",
    "    tss = sum(((y - mean_y) * (y - mean_y) for y in ys))\n",
    "    rss = sum(((y - f_x) * (y - f_x) for y, f_x in zip(ys, predicted_ys)))\n",
    "    return 1 - rss / tss"
   ]
  },
  {
   "cell_type": "code",
   "execution_count": null,
   "metadata": {},
   "outputs": [],
   "source": [
    "new_r2 = calculate_r2(new_df['ms'], new_ys)\n",
    "old_r2 = calculate_r2(old_df['ms'], old_ys)"
   ]
  },
  {
   "cell_type": "code",
   "execution_count": null,
   "metadata": {},
   "outputs": [
    {
     "name": "stdout",
     "output_type": "stream",
     "text": [
      "new equation: y = 3.652408930569563e-06x^2 + 0.00010039442960046131x + 0.04827432184248888\n",
      "old equation: y = 2.0970165397410255e-06x^3 + 0.00011889873331170688x^2 + -0.011514405657739164x + 0.4702874436432495\n"
     ]
    }
   ],
   "source": [
    "print(f\"\"\"new equation: y = {a1}x^2 + {b1}x + {c1}\n",
    "old equation: y = {a2}x^3 + {b2}x^2 + {c2}x + {d2}\"\"\")"
   ]
  },
  {
   "cell_type": "code",
   "execution_count": null,
   "metadata": {},
   "outputs": [
    {
     "data": {
      "text/plain": [
       "(0.9898152063707221, 0.9996588184713785)"
      ]
     },
     "execution_count": 28,
     "metadata": {},
     "output_type": "execute_result"
    }
   ],
   "source": [
    "new_r2, old_r2"
   ]
  }
 ],
 "metadata": {
  "interpreter": {
   "hash": "aee8b7b246df8f9039afb4144a1f6fd8d2ca17a180786b69acc140d282b71a49"
  },
  "kernelspec": {
   "display_name": "Python 3.10.0 64-bit",
   "language": "python",
   "name": "python3"
  },
  "language_info": {
   "codemirror_mode": {
    "name": "ipython",
    "version": 3
   },
   "file_extension": ".py",
   "mimetype": "text/x-python",
   "name": "python",
   "nbconvert_exporter": "python",
   "pygments_lexer": "ipython3",
   "version": "3.10.0"
  },
  "orig_nbformat": 4
 },
 "nbformat": 4,
 "nbformat_minor": 2
}
